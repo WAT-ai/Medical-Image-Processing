{
 "cells": [
  {
   "attachments": {},
   "cell_type": "markdown",
   "metadata": {},
   "source": [
    "# Prostate Data Analysis\n",
    "This notebook will be used to explore the prostate cancer dataset. Do not push any changes from this file to the repo\n",
    "\n",
    "You must download the dataset locally. You can download the zip file [here](https://drive.google.com/file/d/17_Nqvi5Z5Jo23X6AzoorMC2kSaw3DJH2/view)\n",
    "(If you have any issues obtaining access to the dataset, please message Jarett or Hargun)\n",
    "\n",
    "<b> Please Note: </b> Refer to the version control specifications in the README.md file in this repo regarding the dataset"
   ]
  },
  {
   "cell_type": "code",
   "execution_count": 25,
   "metadata": {},
   "outputs": [
    {
     "name": "stdout",
     "output_type": "stream",
     "text": [
      "ProstateX-0000\n",
      "ProstateX-0001\n",
      "ProstateX-0002\n",
      "ProstateX-0003\n",
      "ProstateX-0004\n",
      "ProstateX-0005\n",
      "ProstateX-0006\n",
      "ProstateX-0007\n",
      "ProstateX-0008\n",
      "ProstateX-0009\n",
      "ProstateX-0010\n",
      "ProstateX-0011\n",
      "ProstateX-0012\n",
      "ProstateX-0013\n",
      "ProstateX-0014\n",
      "ProstateX-0015\n",
      "ProstateX-0016\n",
      "ProstateX-0017\n",
      "ProstateX-0018\n",
      "ProstateX-0019\n",
      "ProstateX-0020\n",
      "ProstateX-0021\n",
      "ProstateX-0022\n",
      "ProstateX-0023\n",
      "ProstateX-0024\n",
      "ProstateX-0025\n",
      "ProstateX-0026\n",
      "ProstateX-0027\n",
      "ProstateX-0028\n",
      "ProstateX-0029\n",
      "ProstateX-0030\n",
      "ProstateX-0031\n",
      "ProstateX-0032\n",
      "ProstateX-0033\n",
      "ProstateX-0034\n",
      "ProstateX-0035\n",
      "ProstateX-0036\n",
      "ProstateX-0037\n",
      "ProstateX-0038\n",
      "ProstateX-0039\n",
      "ProstateX-0040\n",
      "ProstateX-0041\n",
      "ProstateX-0042\n",
      "ProstateX-0043\n",
      "ProstateX-0044\n",
      "ProstateX-0045\n",
      "ProstateX-0046\n",
      "ProstateX-0047\n",
      "ProstateX-0048\n",
      "ProstateX-0049\n",
      "ProstateX-0050\n",
      "ProstateX-0051\n",
      "ProstateX-0053\n",
      "ProstateX-0054\n",
      "ProstateX-0055\n",
      "ProstateX-0057\n",
      "ProstateX-0058\n",
      "ProstateX-0059\n",
      "ProstateX-0060\n",
      "ProstateX-0061\n",
      "ProstateX-0062\n",
      "ProstateX-0063\n",
      "ProstateX-0064\n",
      "ProstateX-0065\n",
      "ProstateX-0066\n",
      "ProstateX-0067\n",
      "ProstateX-0068\n",
      "ProstateX-0069\n",
      "ProstateX-0070\n",
      "ProstateX-0071\n",
      "ProstateX-0072\n",
      "ProstateX-0073\n",
      "ProstateX-0074\n",
      "ProstateX-0075\n",
      "ProstateX-0076\n",
      "ProstateX-0077\n",
      "ProstateX-0078\n",
      "ProstateX-0079\n",
      "ProstateX-0081\n",
      "ProstateX-0082\n",
      "ProstateX-0083\n",
      "ProstateX-0084\n",
      "ProstateX-0085\n",
      "ProstateX-0086\n",
      "ProstateX-0087\n",
      "ProstateX-0088\n",
      "ProstateX-0089\n",
      "ProstateX-0090\n",
      "ProstateX-0091\n",
      "ProstateX-0092\n",
      "ProstateX-0093\n",
      "ProstateX-0094\n",
      "ProstateX-0095\n",
      "ProstateX-0096\n",
      "ProstateX-0097\n",
      "ProstateX-0098\n",
      "ProstateX-0099\n",
      "ProstateX-0100\n",
      "ProstateX-0101\n",
      "ProstateX-0102\n",
      "ProstateX-0103\n",
      "ProstateX-0104\n"
     ]
    }
   ],
   "source": [
    "from dataset import LesionDataset\n",
    "\n",
    "dataset = LesionDataset('data\\PreparedPROSTATExDataset\\data') #local path to data\n",
    "\n",
    "for patient in dataset.patients():\n",
    "    # patient is an instance of the Patient class\n",
    "    print(patient.patient_id)\n",
    "    "
   ]
  },
  {
   "attachments": {},
   "cell_type": "markdown",
   "metadata": {},
   "source": [
    "<b>Note</b>: Had an issue with a missing params.json file in patient 104. If you also have this issue, paste a params.json file from another patient into the 104 patient folder accordingly"
   ]
  },
  {
   "cell_type": "code",
   "execution_count": 26,
   "metadata": {},
   "outputs": [
    {
     "ename": "NameError",
     "evalue": "name 'plt' is not defined",
     "output_type": "error",
     "traceback": [
      "\u001b[1;31m---------------------------------------------------------------------------\u001b[0m",
      "\u001b[1;31mNameError\u001b[0m                                 Traceback (most recent call last)",
      "\u001b[1;32mc:\\Users\\jdewy\\WAT.ai\\medical-image-processing\\prostatecancer.ipynb Cell 4\u001b[0m in \u001b[0;36m<cell line: 2>\u001b[1;34m()\u001b[0m\n\u001b[0;32m      <a href='vscode-notebook-cell:/c%3A/Users/jdewy/WAT.ai/medical-image-processing/prostatecancer.ipynb#W3sZmlsZQ%3D%3D?line=0'>1</a>\u001b[0m image \u001b[39m=\u001b[39m np\u001b[39m.\u001b[39mload(\u001b[39m'\u001b[39m\u001b[39mdata\u001b[39m\u001b[39m\\\u001b[39m\u001b[39mPreparedPROSTATExDataset\u001b[39m\u001b[39m\\\u001b[39m\u001b[39mdata\u001b[39m\u001b[39m\\\u001b[39m\u001b[39mProstateX-0002\u001b[39m\u001b[39m\\\u001b[39m\u001b[39mimages\u001b[39m\u001b[39m\\\u001b[39m\u001b[39mCDIs.npy\u001b[39m\u001b[39m'\u001b[39m)\n\u001b[1;32m----> <a href='vscode-notebook-cell:/c%3A/Users/jdewy/WAT.ai/medical-image-processing/prostatecancer.ipynb#W3sZmlsZQ%3D%3D?line=1'>2</a>\u001b[0m plt\u001b[39m.\u001b[39mimshow(image, cmap\u001b[39m=\u001b[39m\u001b[39m\"\u001b[39m\u001b[39mgray\u001b[39m\u001b[39m\"\u001b[39m)\n",
      "\u001b[1;31mNameError\u001b[0m: name 'plt' is not defined"
     ]
    }
   ],
   "source": [
    "import numpy as np\n",
    "import matplotlib as plt\n",
    "\n",
    "image = np.load('data\\PreparedPROSTATExDataset\\data\\ProstateX-0002\\images\\CDIs.npy')\n",
    "plt.imshow(image, cmap=\"gray\")"
   ]
  }
 ],
 "metadata": {
  "kernelspec": {
   "display_name": "Python 3",
   "language": "python",
   "name": "python3"
  },
  "language_info": {
   "codemirror_mode": {
    "name": "ipython",
    "version": 3
   },
   "file_extension": ".py",
   "mimetype": "text/x-python",
   "name": "python",
   "nbconvert_exporter": "python",
   "pygments_lexer": "ipython3",
   "version": "3.10.0"
  },
  "orig_nbformat": 4,
  "vscode": {
   "interpreter": {
    "hash": "5b01ba905eccfeb8f4896156b37b00cd80d399d4ed35aee4c821b45b747f54f1"
   }
  }
 },
 "nbformat": 4,
 "nbformat_minor": 2
}
