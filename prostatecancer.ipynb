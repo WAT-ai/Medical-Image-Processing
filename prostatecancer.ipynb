{
 "cells": [
  {
   "attachments": {},
   "cell_type": "markdown",
   "metadata": {},
   "source": [
    "# Prostate Data Analysis\n",
    "This notebook will be used to explore the prostate cancer dataset\n",
    "\n",
    "You must download the dataset locally. You can download the zip file [here](https://drive.google.com/file/d/17_Nqvi5Z5Jo23X6AzoorMC2kSaw3DJH2/view)\n",
    "(If you have any issues obtaining access to the dataset, please message Jarett or Hargun)\n",
    "\n",
    "<b> Please Note: </b> Refer to the version control specifications in the README.md file in this repo regarding the dataset"
   ]
  },
  {
   "attachments": {},
   "cell_type": "markdown",
   "metadata": {},
   "source": []
  },
  {
   "cell_type": "code",
   "execution_count": null,
   "metadata": {},
   "outputs": [],
   "source": []
  },
  {
   "cell_type": "code",
   "execution_count": null,
   "metadata": {},
   "outputs": [],
   "source": []
  }
 ],
 "metadata": {
  "language_info": {
   "name": "python"
  },
  "orig_nbformat": 4
 },
 "nbformat": 4,
 "nbformat_minor": 2
}
